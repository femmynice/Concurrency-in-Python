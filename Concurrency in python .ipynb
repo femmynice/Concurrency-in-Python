{
 "cells": [
  {
   "cell_type": "code",
   "execution_count": null,
   "id": "62eaec7d-5b6a-4c84-9522-9b7d6129fc89",
   "metadata": {},
   "outputs": [],
   "source": [
    "from datetime import datetime, timedelta"
   ]
  },
  {
   "cell_type": "code",
   "execution_count": null,
   "id": "2b5d6827-c46f-4d87-96e5-072cda201f18",
   "metadata": {},
   "outputs": [],
   "source": [
    "current_date = datetime.now().strftime('%Y-%m-%d')"
   ]
  },
  {
   "cell_type": "code",
   "execution_count": null,
   "id": "2596b5f3-0923-4a4e-83c5-3655cde6d123",
   "metadata": {},
   "outputs": [],
   "source": [
    "with open('today.txt', 'w') as file:"
   ]
  },
  {
   "cell_type": "code",
   "execution_count": null,
   "id": "40644b56-aabb-472b-842b-d34f02e9e809",
   "metadata": {},
   "outputs": [],
   "source": [
    " file.write(current_date)"
   ]
  },
  {
   "cell_type": "code",
   "execution_count": null,
   "id": "3790b5c2-ecf8-484b-beb4-87e49243a0a1",
   "metadata": {},
   "outputs": [],
   "source": []
  },
  {
   "cell_type": "code",
   "execution_count": null,
   "id": "d2d96682-0fd3-413f-9b1a-9240b00d5511",
   "metadata": {},
   "outputs": [],
   "source": [
    "with open('today.txt', 'r') as file:"
   ]
  },
  {
   "cell_type": "code",
   "execution_count": null,
   "id": "0103f4b2-e8ff-4700-847c-1010ad7bf221",
   "metadata": {},
   "outputs": [],
   "source": [
    "today_string = file.read()"
   ]
  },
  {
   "cell_type": "code",
   "execution_count": null,
   "id": "41fb288a-a730-4a29-bef5-155ece187034",
   "metadata": {},
   "outputs": [],
   "source": []
  },
  {
   "cell_type": "code",
   "execution_count": null,
   "id": "b26504e1-b9a1-45a9-9f33-6f828686e443",
   "metadata": {},
   "outputs": [],
   "source": [
    "parsed_date = datetime.strptime(today_string, '%Y-%m-%d')\n"
   ]
  },
  {
   "cell_type": "code",
   "execution_count": null,
   "id": "7eeaf0ef-ee71-49c9-b321-bd5fa43be776",
   "metadata": {},
   "outputs": [],
   "source": []
  },
  {
   "cell_type": "code",
   "execution_count": null,
   "id": "aa3fb269-61ce-4500-865d-af67043355a0",
   "metadata": {},
   "outputs": [],
   "source": [
    "import multiprocessing"
   ]
  },
  {
   "cell_type": "code",
   "execution_count": null,
   "id": "d221a33c-7f92-4672-a88e-8e25932574a4",
   "metadata": {},
   "outputs": [],
   "source": [
    "from datetime import datetime"
   ]
  },
  {
   "cell_type": "code",
   "execution_count": null,
   "id": "6e13b088-878b-4f80-a437-0806fedd575d",
   "metadata": {},
   "outputs": [],
   "source": [
    "import time"
   ]
  },
  {
   "cell_type": "code",
   "execution_count": null,
   "id": "981892ba-dc17-4b76-b3d0-849235bbc74e",
   "metadata": {},
   "outputs": [],
   "source": [
    "import random"
   ]
  },
  {
   "cell_type": "code",
   "execution_count": null,
   "id": "84e84773-889c-4ce1-b44f-212aafd610c4",
   "metadata": {},
   "outputs": [],
   "source": []
  },
  {
   "cell_type": "code",
   "execution_count": null,
   "id": "15fc553f-79bb-422f-a16a-3c1508c2d0aa",
   "metadata": {},
   "outputs": [],
   "source": [
    "def print_time():"
   ]
  },
  {
   "cell_type": "code",
   "execution_count": null,
   "id": "70a2d063-c2b2-4906-8f67-9f051fb62247",
   "metadata": {},
   "outputs": [],
   "source": [
    "now = datetime.now()"
   ]
  },
  {
   "cell_type": "code",
   "execution_count": null,
   "id": "16bc01ef-d3bf-4d42-98d8-6d53665e92f8",
   "metadata": {},
   "outputs": [],
   "source": [
    " print(\"Today's date and time is {}\".format(now))"
   ]
  },
  {
   "cell_type": "code",
   "execution_count": null,
   "id": "a748a34e-ddeb-407a-9c91-5f5c33a77a19",
   "metadata": {},
   "outputs": [],
   "source": [
    " time.sleep(random.random())"
   ]
  },
  {
   "cell_type": "code",
   "execution_count": null,
   "id": "606316aa-93b3-4e0c-aec8-707e592c8102",
   "metadata": {},
   "outputs": [],
   "source": [
    "if __name__ == '__main__':"
   ]
  },
  {
   "cell_type": "code",
   "execution_count": null,
   "id": "8d6f0480-6eb6-4656-b007-896bd11a4c2d",
   "metadata": {},
   "outputs": [],
   "source": [
    "proc1 = multiprocessing.Process(target=print_time())"
   ]
  },
  {
   "cell_type": "code",
   "execution_count": null,
   "id": "11722705-f129-4fab-9f7a-fe2fbfe2477a",
   "metadata": {},
   "outputs": [],
   "source": [
    "proc2 = multiprocessing.Process(target=print_time())"
   ]
  },
  {
   "cell_type": "code",
   "execution_count": null,
   "id": "2e10c6e2-9b83-4767-bede-288fee3b145e",
   "metadata": {},
   "outputs": [],
   "source": [
    "proc3 = multiprocessing.Process(target=print_time())"
   ]
  },
  {
   "cell_type": "code",
   "execution_count": null,
   "id": "f10d387f-3b1b-469c-9f4a-9f87928a7b35",
   "metadata": {},
   "outputs": [],
   "source": [
    " proc1.start()"
   ]
  },
  {
   "cell_type": "code",
   "execution_count": null,
   "id": "d792ec10-be77-4f1e-93d8-dedc8185bfd8",
   "metadata": {},
   "outputs": [],
   "source": [
    "proc2.start()"
   ]
  },
  {
   "cell_type": "code",
   "execution_count": null,
   "id": "f0bd32eb-8e3f-4679-b143-6f06816c09e1",
   "metadata": {},
   "outputs": [],
   "source": [
    "proc3.start()"
   ]
  },
  {
   "cell_type": "code",
   "execution_count": null,
   "id": "ffe28113-7fb4-434d-8aff-b691775d03fe",
   "metadata": {},
   "outputs": [],
   "source": [
    "proc1.join()"
   ]
  },
  {
   "cell_type": "code",
   "execution_count": null,
   "id": "9bc088a3-1bb4-4cd0-92de-7f12a416b808",
   "metadata": {},
   "outputs": [],
   "source": [
    "proc2.join()"
   ]
  },
  {
   "cell_type": "code",
   "execution_count": null,
   "id": "c5d6f368-3230-446b-b9b8-631d14912f05",
   "metadata": {},
   "outputs": [],
   "source": [
    "proc3.join()"
   ]
  },
  {
   "cell_type": "code",
   "execution_count": null,
   "id": "652f71c0-febb-4672-a00d-2064d97b9e2c",
   "metadata": {},
   "outputs": [],
   "source": [
    "print('Completed')"
   ]
  }
 ],
 "metadata": {
  "kernelspec": {
   "display_name": "Python 3 (ipykernel)",
   "language": "python",
   "name": "python3"
  },
  "language_info": {
   "codemirror_mode": {
    "name": "ipython",
    "version": 3
   },
   "file_extension": ".py",
   "mimetype": "text/x-python",
   "name": "python",
   "nbconvert_exporter": "python",
   "pygments_lexer": "ipython3",
   "version": "3.11.7"
  }
 },
 "nbformat": 4,
 "nbformat_minor": 5
}
